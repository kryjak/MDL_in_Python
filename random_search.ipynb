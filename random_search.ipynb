{
 "cells": [
  {
   "cell_type": "code",
   "execution_count": null,
   "metadata": {},
   "outputs": [],
   "source": [
    "import numpy as np\n",
    "import matplotlib.pyplot as plt\n",
    "from sklearn.utils import shuffle\n",
    "import itertools\n",
    "from functools import cmp_to_key"
   ]
  },
  {
   "cell_type": "code",
   "execution_count": null,
   "metadata": {},
   "outputs": [],
   "source": [
    "from create_spiral import create_spiral\n",
    "from base_classes import ANNOneHiddenLayer"
   ]
  },
  {
   "cell_type": "code",
   "execution_count": null,
   "metadata": {},
   "outputs": [],
   "source": [
    "X, Y = create_spiral(n_arms=6, n_points_per_arm=100, show_plot=False)\n",
    "print(X.shape)\n",
    "print(Y.shape)\n",
    "\n",
    "X, Y = shuffle(X, Y)\n",
    "\n",
    "train_test_split = 0.8\n",
    "n_train = int(train_test_split*len(X))\n",
    "\n",
    "X_train, Y_train = X[:n_train], Y[:n_train]\n",
    "X_test, Y_test = X[n_train:], Y[n_train:]"
   ]
  },
  {
   "cell_type": "code",
   "execution_count": null,
   "metadata": {},
   "outputs": [],
   "source": [
    "class RandomSearch(ANNOneHiddenLayer):\n",
    "    def random_search(self, X_train, Y_train, X_val, Y_val, max_iter: int = 100):\n",
    "        M = 10\n",
    "        learning_rate = 1e-4\n",
    "        reg = 1.0\n",
    "\n",
    "        best_error = 1.1 # initalise error to anything greater than 1\n",
    "        best_M = None\n",
    "        best_learning_rate = None\n",
    "        best_reg = None\n",
    "\n",
    "        for ii in range(max_iter):\n",
    "            super().__init__(M=M)\n",
    "            self.fit(X_train, Y_train, learning_rate=learning_rate, reg=reg)\n",
    "            _, error = self.evaluate(X_val, Y_val)\n",
    "\n",
    "            if error < best_error:\n",
    "                best_error = error\n",
    "                best_M = M\n",
    "                best_learning_rate = learning_rate\n",
    "                best_reg = reg\n",
    "\n",
    "                print(f'New best error: {best_error} on iteration no: {ii}')\n",
    "\n",
    "            best_M = best_M + 10*np.random.randint(-1, 2) # change M by multiples of 10\n",
    "            best_M = max(10, best_M) # do not let M be <10\n",
    "            best_learning_rate = best_learning_rate * 10**np.random.randint(-1, 2) # we want to switch by powers of 10\n",
    "            best_reg = best_reg * 10**np.random.randint(-1, 2)\n",
    "\n",
    "        return best_error, best_M, best_learning_rate, best_reg"
   ]
  },
  {
   "cell_type": "code",
   "execution_count": null,
   "metadata": {},
   "outputs": [],
   "source": [
    "model = RandomSearch()\n",
    "best_error, best_M, best_learning_rate, best_reg = model.random_search(X_train, Y_train, X_test, Y_test, max_iter=10)\n",
    "print(f'best_error, best_M, best_learning_rate, best_reg: ', best_error, best_M, best_learning_rate, best_reg)"
   ]
  }
 ],
 "metadata": {
  "kernelspec": {
   "display_name": "Python 3",
   "language": "python",
   "name": "python3"
  },
  "language_info": {
   "codemirror_mode": {
    "name": "ipython",
    "version": 3
   },
   "file_extension": ".py",
   "mimetype": "text/x-python",
   "name": "python",
   "nbconvert_exporter": "python",
   "pygments_lexer": "ipython3",
   "version": "3.12.3"
  }
 },
 "nbformat": 4,
 "nbformat_minor": 2
}
