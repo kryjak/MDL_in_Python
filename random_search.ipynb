{
 "cells": [
  {
   "cell_type": "code",
   "execution_count": null,
   "metadata": {},
   "outputs": [],
   "source": [
    "import numpy as np\n",
    "import matplotlib.pyplot as plt\n",
    "from sklearn.utils import shuffle\n",
    "import itertools\n",
    "from functools import cmp_to_key"
   ]
  },
  {
   "cell_type": "code",
   "execution_count": null,
   "metadata": {},
   "outputs": [],
   "source": [
    "from create_spiral import create_spiral\n",
    "from base_classes import ANNOneHiddenLayer"
   ]
  },
  {
   "cell_type": "code",
   "execution_count": null,
   "metadata": {},
   "outputs": [],
   "source": [
    "X, Y = create_spiral(n_arms=6, n_points_per_arm=100, show_plot=False)\n",
    "print(X.shape)\n",
    "print(Y.shape)\n",
    "\n",
    "X, Y = shuffle(X, Y)\n",
    "\n",
    "train_test_split = 0.8\n",
    "n_train = int(train_test_split*len(X))\n",
    "\n",
    "X_train, Y_train = X[:n_train], Y[:n_train]\n",
    "X_test, Y_test = X[n_train:], Y[n_train:]"
   ]
  },
  {
   "cell_type": "code",
   "execution_count": null,
   "metadata": {},
   "outputs": [],
   "source": [
    "class GridSearch(ANNOneHiddenLayer):\n",
    "    def __init__(self, M:int = 10, activation_function:str = 'tanh') -> None:\n",
    "        super().__init__(M=M, activation_function=activation_function)\n",
    "    \n",
    "    def grid_search(self, X_train, Y_train, X_val, Y_val, params_dict: dict):\n",
    "        params_values = list(params_dict.values())\n",
    "        params_keys = list(params_dict.keys())\n",
    "\n",
    "        all_dicts = []\n",
    "        for element in itertools.product(*params_values):\n",
    "            tmp_dict = dict(zip(params_keys, element))\n",
    "            self.fit(X_train, Y_train, **tmp_dict)\n",
    "            _, error = self.evaluate(X_val, Y_val)\n",
    "            tmp_dict['error'] = error\n",
    "\n",
    "            all_dicts.append(tmp_dict)\n",
    "\n",
    "        sorted_dicts = sorted(all_dicts, key=cmp_to_key(lambda item1, item2: item1['error'] - item2['error']))\n",
    "\n",
    "        return sorted_dicts"
   ]
  }
 ],
 "metadata": {
  "language_info": {
   "name": "python"
  }
 },
 "nbformat": 4,
 "nbformat_minor": 2
}
